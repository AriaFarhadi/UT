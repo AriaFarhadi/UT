{
 "cells": [
  {
   "cell_type": "code",
   "execution_count": 1,
   "id": "b9e26f24",
   "metadata": {},
   "outputs": [],
   "source": [
    "import pandas as pd\n",
    "import numpy as np\n",
    "from sklearn.metrics.pairwise import cosine_similarity"
   ]
  },
  {
   "cell_type": "code",
   "execution_count": 3,
   "id": "dba1fa66",
   "metadata": {},
   "outputs": [],
   "source": [
    "# Loading the data and creating the pivot table\n",
    "movies = pd.read_csv('movies.dat', sep='::', engine='python', header=None, names=['movie_id', 'title', 'genres'], encoding='ISO-8859-1')\n",
    "users = pd.read_csv('users.dat', sep='::', engine='python', header=None, names=['user_id', 'gender', 'age', 'occupation', 'zip'], encoding='ISO-8859-1')\n",
    "ratings = pd.read_csv('ratings.dat', sep='::', engine='python', header=None, names=['user_id', 'movie_id', 'rating', 'timestamp'], encoding='ISO-8859-1')"
   ]
  },
  {
   "cell_type": "code",
   "execution_count": 4,
   "id": "12c5429b",
   "metadata": {},
   "outputs": [],
   "source": [
    "data = pd.merge(pd.merge(ratings, users), movies)\n",
    "pivot_table = data.pivot_table(index='user_id', columns='title', values='rating').fillna(0)"
   ]
  },
  {
   "cell_type": "code",
   "execution_count": 5,
   "id": "90580d6b",
   "metadata": {},
   "outputs": [],
   "source": [
    "# Calculating cosine similarity\n",
    "cosine_sim = cosine_similarity(pivot_table)"
   ]
  },
  {
   "cell_type": "code",
   "execution_count": 6,
   "id": "6e607d77",
   "metadata": {},
   "outputs": [],
   "source": [
    "# Creating a function to get similar movies\n",
    "def get_similar_movies(movie_title, cosine_sim):\n",
    "    if movie_title not in pivot_table.columns:\n",
    "        return \"Movie not found in database\"\n",
    "    else:\n",
    "        idx = pivot_table.columns.get_loc(movie_title)\n",
    "        sim_scores = list(enumerate(cosine_sim[idx]))\n",
    "        sim_scores = sorted(sim_scores, key=lambda x: x[1], reverse=True)\n",
    "        sim_scores = sim_scores[1:11]\n",
    "        movie_indices = [sim_score[0] for sim_score in sim_scores if sim_score[0] < len(pivot_table.columns)]\n",
    "        similar_movies = pivot_table.columns[movie_indices].tolist()\n",
    "        return ', '.join(similar_movies)\n"
   ]
  },
  {
   "cell_type": "code",
   "execution_count": 7,
   "id": "cb05f468",
   "metadata": {},
   "outputs": [
    {
     "name": "stdout",
     "output_type": "stream",
     "text": [
      "Tom Jones (1963), Risky Business (1983), Candyman (1992), Head Above Water (1996), Nutty Professor, The (1963), Man from Laramie, The (1955)\n"
     ]
    }
   ],
   "source": [
    "# Testing the function\n",
    "print(get_similar_movies('Babe (1995)', cosine_sim))"
   ]
  }
 ],
 "metadata": {
  "kernelspec": {
   "display_name": "Python 3 (ipykernel)",
   "language": "python",
   "name": "python3"
  },
  "language_info": {
   "codemirror_mode": {
    "name": "ipython",
    "version": 3
   },
   "file_extension": ".py",
   "mimetype": "text/x-python",
   "name": "python",
   "nbconvert_exporter": "python",
   "pygments_lexer": "ipython3",
   "version": "3.9.13"
  }
 },
 "nbformat": 4,
 "nbformat_minor": 5
}
